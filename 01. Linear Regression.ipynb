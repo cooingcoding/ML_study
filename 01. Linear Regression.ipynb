{
 "cells": [
  {
   "cell_type": "markdown",
   "id": "61576722",
   "metadata": {},
   "source": [
    "# 1. Linear Regression\n",
    "### 공부 시간에 따른 시험 점수"
   ]
  },
  {
   "cell_type": "code",
   "execution_count": 1,
   "id": "76d88aff",
   "metadata": {},
   "outputs": [],
   "source": [
    "import pandas as pd\n",
    "import numpy as np\n",
    "import matplotlib.pyplot as plt"
   ]
  },
  {
   "cell_type": "code",
   "execution_count": 2,
   "id": "13fdabe8",
   "metadata": {},
   "outputs": [],
   "source": [
    "#파일 불러오기\n",
    "dataset = pd.read_csv('D:/k-digital/ML/PythonMLWorkspace(LightWeight)/ScikitLearn/LinearRegressionData.csv')"
   ]
  },
  {
   "cell_type": "code",
   "execution_count": 3,
   "id": "bd020893",
   "metadata": {},
   "outputs": [
    {
     "data": {
      "text/html": [
       "<div>\n",
       "<style scoped>\n",
       "    .dataframe tbody tr th:only-of-type {\n",
       "        vertical-align: middle;\n",
       "    }\n",
       "\n",
       "    .dataframe tbody tr th {\n",
       "        vertical-align: top;\n",
       "    }\n",
       "\n",
       "    .dataframe thead th {\n",
       "        text-align: right;\n",
       "    }\n",
       "</style>\n",
       "<table border=\"1\" class=\"dataframe\">\n",
       "  <thead>\n",
       "    <tr style=\"text-align: right;\">\n",
       "      <th></th>\n",
       "      <th>hour</th>\n",
       "      <th>score</th>\n",
       "    </tr>\n",
       "  </thead>\n",
       "  <tbody>\n",
       "    <tr>\n",
       "      <th>0</th>\n",
       "      <td>0.5</td>\n",
       "      <td>10</td>\n",
       "    </tr>\n",
       "    <tr>\n",
       "      <th>1</th>\n",
       "      <td>1.2</td>\n",
       "      <td>8</td>\n",
       "    </tr>\n",
       "    <tr>\n",
       "      <th>2</th>\n",
       "      <td>1.8</td>\n",
       "      <td>14</td>\n",
       "    </tr>\n",
       "    <tr>\n",
       "      <th>3</th>\n",
       "      <td>2.4</td>\n",
       "      <td>26</td>\n",
       "    </tr>\n",
       "    <tr>\n",
       "      <th>4</th>\n",
       "      <td>2.6</td>\n",
       "      <td>22</td>\n",
       "    </tr>\n",
       "  </tbody>\n",
       "</table>\n",
       "</div>"
      ],
      "text/plain": [
       "   hour  score\n",
       "0   0.5     10\n",
       "1   1.2      8\n",
       "2   1.8     14\n",
       "3   2.4     26\n",
       "4   2.6     22"
      ]
     },
     "execution_count": 3,
     "metadata": {},
     "output_type": "execute_result"
    }
   ],
   "source": [
    "dataset.head()"
   ]
  },
  {
   "cell_type": "code",
   "execution_count": 4,
   "id": "e711a2e8",
   "metadata": {},
   "outputs": [],
   "source": [
    "#독립변수 종속변수 분리\n",
    "# 처음부터 마지막 컬럼 직전까지의 데이터 (독립 변수 - 원인)\n",
    "X = dataset.iloc[:, :-1].values \n",
    "# 마지막 컬럼 데이터 (종속 변수 - 결과)\n",
    "y = dataset.iloc[:, -1].values"
   ]
  },
  {
   "cell_type": "code",
   "execution_count": 5,
   "id": "ef7c870e",
   "metadata": {},
   "outputs": [
    {
     "data": {
      "text/plain": [
       "(array([[ 0.5],\n",
       "        [ 1.2],\n",
       "        [ 1.8],\n",
       "        [ 2.4],\n",
       "        [ 2.6],\n",
       "        [ 3.2],\n",
       "        [ 3.9],\n",
       "        [ 4.4],\n",
       "        [ 4.5],\n",
       "        [ 5. ],\n",
       "        [ 5.3],\n",
       "        [ 5.8],\n",
       "        [ 6. ],\n",
       "        [ 6.1],\n",
       "        [ 6.2],\n",
       "        [ 6.9],\n",
       "        [ 7.2],\n",
       "        [ 8.4],\n",
       "        [ 8.6],\n",
       "        [10. ]]),\n",
       " array([ 10,   8,  14,  26,  22,  30,  42,  48,  38,  58,  60,  72,  62,\n",
       "         68,  72,  58,  76,  86,  90, 100], dtype=int64))"
      ]
     },
     "execution_count": 5,
     "metadata": {},
     "output_type": "execute_result"
    }
   ],
   "source": [
    "X, y"
   ]
  },
  {
   "cell_type": "code",
   "execution_count": 6,
   "id": "3d8c324a",
   "metadata": {},
   "outputs": [
    {
     "data": {
      "text/plain": [
       "LinearRegression()"
      ]
     },
     "execution_count": 6,
     "metadata": {},
     "output_type": "execute_result"
    }
   ],
   "source": [
    "#모델을 만들어보자\n",
    "from sklearn.linear_model import LinearRegression\n",
    "\n",
    "# 객체 생성 - 새로운 선형회귀 모델을 만들기 위한 준비\n",
    "reg = LinearRegression() \n",
    "\n",
    "# 학습하며 모델 생성:위에서 분리했던 데이터를 차례대로 넣어준다.(모델 생성)\n",
    "reg.fit(X, y) "
   ]
  },
  {
   "cell_type": "code",
   "execution_count": 8,
   "id": "786cf613",
   "metadata": {},
   "outputs": [
    {
     "data": {
      "text/plain": [
       "array([  5.00336377,  12.31395163,  18.58016979,  24.84638795,\n",
       "        26.93512734,  33.20134551,  40.51193337,  45.73378184,\n",
       "        46.77815153,  52.        ,  55.13310908,  60.35495755,\n",
       "        62.44369694,  63.48806663,  64.53243633,  71.84302419,\n",
       "        74.97613327,  87.5085696 ,  89.59730899, 104.2184847 ])"
      ]
     },
     "execution_count": 8,
     "metadata": {},
     "output_type": "execute_result"
    }
   ],
   "source": [
    "#X 에 대한 예측 값(y)가 어떤지 보자\n",
    "y_pred = reg.predict(X) \n",
    "y_pred"
   ]
  },
  {
   "cell_type": "code",
   "execution_count": 10,
   "id": "30134309",
   "metadata": {},
   "outputs": [
    {
     "data": {
      "image/png": "[encoded data removed]",
      "text/plain": [
       "<Figure size 640x480 with 1 Axes>"
      ]
     },
     "metadata": {},
     "output_type": "display_data"
    }
   ],
   "source": [
    "#시각화\n",
    "plt.scatter(X, y, color='blue') # 산점도\n",
    "plt.plot(X, y_pred, color='red') # 선 그래프\n",
    "plt.title('Score by hours') # 제목\n",
    "plt.xlabel('hours') # X 축 이름\n",
    "plt.ylabel('score') # Y 축 이름\n",
    "plt.show()"
   ]
  },
  {
   "cell_type": "code",
   "execution_count": 14,
   "id": "e67dd863",
   "metadata": {},
   "outputs": [
    {
     "name": "stdout",
     "output_type": "stream",
     "text": [
      "9시간 공부했을 때 예상 점수 :  [93.77478776]\n",
      "8시간 공부했을 때 예상 점수 :  [83.33109082]\n",
      "7시간 공부했을 때 예상 점수 :  [72.88739388]\n"
     ]
    }
   ],
   "source": [
    "##위에서 x가 이차원배열인 것을 확인했으니 예측값을 넣을 때 2차원으로 넣는다.\n",
    "print('9시간 공부했을 때 예상 점수 : ', reg.predict([[9]])) \n",
    "print('8시간 공부했을 때 예상 점수 : ', reg.predict([[8]]))\n",
    "print('7시간 공부했을 때 예상 점수 : ', reg.predict([[7]]))"
   ]
  },
  {
   "cell_type": "code",
   "execution_count": 15,
   "id": "215852b8",
   "metadata": {},
   "outputs": [
    {
     "data": {
      "text/plain": [
       "array([10.44369694])"
      ]
     },
     "execution_count": 15,
     "metadata": {},
     "output_type": "execute_result"
    }
   ],
   "source": [
    "reg.coef_ # 기울기 (m)"
   ]
  },
  {
   "cell_type": "code",
   "execution_count": 16,
   "id": "91615e64",
   "metadata": {},
   "outputs": [
    {
     "data": {
      "text/plain": [
       "-0.21848470286721522"
      ]
     },
     "execution_count": 16,
     "metadata": {},
     "output_type": "execute_result"
    }
   ],
   "source": [
    "reg.intercept_ # y 절편 (b)"
   ]
  },
  {
   "cell_type": "markdown",
   "id": "e7f20030",
   "metadata": {},
   "source": [
    "y = mx + b  -> y = 10.4436x - 0.2184\n",
    "선을 나타내는 식"
   ]
  },
  {
   "cell_type": "markdown",
   "id": "44d88248",
   "metadata": {},
   "source": [
    "### 데이터 세트 분리"
   ]
  },
  {
   "cell_type": "code",
   "execution_count": 17,
   "id": "955e40a5",
   "metadata": {},
   "outputs": [],
   "source": [
    "import pandas as pd\n",
    "import numpy as np\n",
    "import matplotlib.pyplot as plt"
   ]
  },
  {
   "cell_type": "code",
   "execution_count": 19,
   "id": "4f50aca6",
   "metadata": {},
   "outputs": [
    {
     "data": {
      "text/html": [
       "<div>\n",
       "<style scoped>\n",
       "    .dataframe tbody tr th:only-of-type {\n",
       "        vertical-align: middle;\n",
       "    }\n",
       "\n",
       "    .dataframe tbody tr th {\n",
       "        vertical-align: top;\n",
       "    }\n",
       "\n",
       "    .dataframe thead th {\n",
       "        text-align: right;\n",
       "    }\n",
       "</style>\n",
       "<table border=\"1\" class=\"dataframe\">\n",
       "  <thead>\n",
       "    <tr style=\"text-align: right;\">\n",
       "      <th></th>\n",
       "      <th>hour</th>\n",
       "      <th>score</th>\n",
       "    </tr>\n",
       "  </thead>\n",
       "  <tbody>\n",
       "    <tr>\n",
       "      <th>0</th>\n",
       "      <td>0.5</td>\n",
       "      <td>10</td>\n",
       "    </tr>\n",
       "    <tr>\n",
       "      <th>1</th>\n",
       "      <td>1.2</td>\n",
       "      <td>8</td>\n",
       "    </tr>\n",
       "    <tr>\n",
       "      <th>2</th>\n",
       "      <td>1.8</td>\n",
       "      <td>14</td>\n",
       "    </tr>\n",
       "    <tr>\n",
       "      <th>3</th>\n",
       "      <td>2.4</td>\n",
       "      <td>26</td>\n",
       "    </tr>\n",
       "    <tr>\n",
       "      <th>4</th>\n",
       "      <td>2.6</td>\n",
       "      <td>22</td>\n",
       "    </tr>\n",
       "    <tr>\n",
       "      <th>5</th>\n",
       "      <td>3.2</td>\n",
       "      <td>30</td>\n",
       "    </tr>\n",
       "    <tr>\n",
       "      <th>6</th>\n",
       "      <td>3.9</td>\n",
       "      <td>42</td>\n",
       "    </tr>\n",
       "    <tr>\n",
       "      <th>7</th>\n",
       "      <td>4.4</td>\n",
       "      <td>48</td>\n",
       "    </tr>\n",
       "    <tr>\n",
       "      <th>8</th>\n",
       "      <td>4.5</td>\n",
       "      <td>38</td>\n",
       "    </tr>\n",
       "    <tr>\n",
       "      <th>9</th>\n",
       "      <td>5.0</td>\n",
       "      <td>58</td>\n",
       "    </tr>\n",
       "    <tr>\n",
       "      <th>10</th>\n",
       "      <td>5.3</td>\n",
       "      <td>60</td>\n",
       "    </tr>\n",
       "    <tr>\n",
       "      <th>11</th>\n",
       "      <td>5.8</td>\n",
       "      <td>72</td>\n",
       "    </tr>\n",
       "    <tr>\n",
       "      <th>12</th>\n",
       "      <td>6.0</td>\n",
       "      <td>62</td>\n",
       "    </tr>\n",
       "    <tr>\n",
       "      <th>13</th>\n",
       "      <td>6.1</td>\n",
       "      <td>68</td>\n",
       "    </tr>\n",
       "    <tr>\n",
       "      <th>14</th>\n",
       "      <td>6.2</td>\n",
       "      <td>72</td>\n",
       "    </tr>\n",
       "    <tr>\n",
       "      <th>15</th>\n",
       "      <td>6.9</td>\n",
       "      <td>58</td>\n",
       "    </tr>\n",
       "    <tr>\n",
       "      <th>16</th>\n",
       "      <td>7.2</td>\n",
       "      <td>76</td>\n",
       "    </tr>\n",
       "    <tr>\n",
       "      <th>17</th>\n",
       "      <td>8.4</td>\n",
       "      <td>86</td>\n",
       "    </tr>\n",
       "    <tr>\n",
       "      <th>18</th>\n",
       "      <td>8.6</td>\n",
       "      <td>90</td>\n",
       "    </tr>\n",
       "    <tr>\n",
       "      <th>19</th>\n",
       "      <td>10.0</td>\n",
       "      <td>100</td>\n",
       "    </tr>\n",
       "  </tbody>\n",
       "</table>\n",
       "</div>"
      ],
      "text/plain": [
       "    hour  score\n",
       "0    0.5     10\n",
       "1    1.2      8\n",
       "2    1.8     14\n",
       "3    2.4     26\n",
       "4    2.6     22\n",
       "5    3.2     30\n",
       "6    3.9     42\n",
       "7    4.4     48\n",
       "8    4.5     38\n",
       "9    5.0     58\n",
       "10   5.3     60\n",
       "11   5.8     72\n",
       "12   6.0     62\n",
       "13   6.1     68\n",
       "14   6.2     72\n",
       "15   6.9     58\n",
       "16   7.2     76\n",
       "17   8.4     86\n",
       "18   8.6     90\n",
       "19  10.0    100"
      ]
     },
     "execution_count": 19,
     "metadata": {},
     "output_type": "execute_result"
    }
   ],
   "source": [
    "#파일 불러오기\n",
    "dataset = pd.read_csv('D:/k-digital/ML/PythonMLWorkspace(LightWeight)/ScikitLearn/LinearRegressionData.csv')\n",
    "dataset"
   ]
  },
  {
   "cell_type": "code",
   "execution_count": 20,
   "id": "30ef3032",
   "metadata": {},
   "outputs": [],
   "source": [
    "X = dataset.iloc[:, :-1].values\n",
    "y = dataset.iloc[:, -1].values"
   ]
  },
  {
   "cell_type": "code",
   "execution_count": 21,
   "id": "36908570",
   "metadata": {},
   "outputs": [],
   "source": [
    "from sklearn.model_selection import train_test_split\n",
    "X_train, X_test, y_train, y_test = train_test_split(X, y, test_size=0.2, random_state=0) # 훈련 80 : 테스트 20 으로 분리"
   ]
  },
  {
   "cell_type": "code",
   "execution_count": 22,
   "id": "bbeb703c",
   "metadata": {},
   "outputs": [
    {
     "data": {
      "text/plain": [
       "(array([[ 0.5],\n",
       "        [ 1.2],\n",
       "        [ 1.8],\n",
       "        [ 2.4],\n",
       "        [ 2.6],\n",
       "        [ 3.2],\n",
       "        [ 3.9],\n",
       "        [ 4.4],\n",
       "        [ 4.5],\n",
       "        [ 5. ],\n",
       "        [ 5.3],\n",
       "        [ 5.8],\n",
       "        [ 6. ],\n",
       "        [ 6.1],\n",
       "        [ 6.2],\n",
       "        [ 6.9],\n",
       "        [ 7.2],\n",
       "        [ 8.4],\n",
       "        [ 8.6],\n",
       "        [10. ]]),\n",
       " 20)"
      ]
     },
     "execution_count": 22,
     "metadata": {},
     "output_type": "execute_result"
    }
   ],
   "source": [
    "X, len(X) # 전체 데이터 X, 개수"
   ]
  },
  {
   "cell_type": "code",
   "execution_count": 23,
   "id": "c2d42b0a",
   "metadata": {},
   "outputs": [
    {
     "data": {
      "text/plain": [
       "(array([[5.3],\n",
       "        [8.4],\n",
       "        [3.9],\n",
       "        [6.1],\n",
       "        [2.6],\n",
       "        [1.8],\n",
       "        [3.2],\n",
       "        [6.2],\n",
       "        [5. ],\n",
       "        [4.4],\n",
       "        [7.2],\n",
       "        [5.8],\n",
       "        [2.4],\n",
       "        [0.5],\n",
       "        [6.9],\n",
       "        [6. ]]),\n",
       " 16)"
      ]
     },
     "execution_count": 23,
     "metadata": {},
     "output_type": "execute_result"
    }
   ],
   "source": [
    "X_train, len(X_train) # 훈련 세트 X, 개수"
   ]
  },
  {
   "cell_type": "code",
   "execution_count": 24,
   "id": "0265a8f9",
   "metadata": {
    "scrolled": true
   },
   "outputs": [
    {
     "data": {
      "text/plain": [
       "(array([[ 8.6],\n",
       "        [ 1.2],\n",
       "        [10. ],\n",
       "        [ 4.5]]),\n",
       " 4)"
      ]
     },
     "execution_count": 24,
     "metadata": {},
     "output_type": "execute_result"
    }
   ],
   "source": [
    "X_test, len(X_test) # 테스트 세트 X, 개수"
   ]
  },
  {
   "cell_type": "code",
   "execution_count": 25,
   "id": "6b0dbc59",
   "metadata": {},
   "outputs": [
    {
     "data": {
      "text/plain": [
       "(array([ 10,   8,  14,  26,  22,  30,  42,  48,  38,  58,  60,  72,  62,\n",
       "         68,  72,  58,  76,  86,  90, 100], dtype=int64),\n",
       " 20)"
      ]
     },
     "execution_count": 25,
     "metadata": {},
     "output_type": "execute_result"
    }
   ],
   "source": [
    "y, len(y) # 전체 데이터 y"
   ]
  },
  {
   "cell_type": "code",
   "execution_count": 26,
   "id": "8525e49c",
   "metadata": {},
   "outputs": [
    {
     "data": {
      "text/plain": [
       "(array([60, 86, 42, 68, 22, 14, 30, 72, 58, 48, 76, 72, 26, 10, 58, 62],\n",
       "       dtype=int64),\n",
       " 16)"
      ]
     },
     "execution_count": 26,
     "metadata": {},
     "output_type": "execute_result"
    }
   ],
   "source": [
    "y_train, len(y_train) # 훈련 세트 y"
   ]
  },
  {
   "cell_type": "code",
   "execution_count": 27,
   "id": "c69fe463",
   "metadata": {},
   "outputs": [
    {
     "data": {
      "text/plain": [
       "(array([ 90,   8, 100,  38], dtype=int64), 4)"
      ]
     },
     "execution_count": 27,
     "metadata": {},
     "output_type": "execute_result"
    }
   ],
   "source": [
    "y_test, len(y_test) # 테스트 세트 y"
   ]
  },
  {
   "cell_type": "markdown",
   "id": "0c7eaac0",
   "metadata": {},
   "source": [
    "### 분리된 데이터를 통한 모델링"
   ]
  },
  {
   "cell_type": "code",
   "execution_count": 28,
   "id": "67499f70",
   "metadata": {},
   "outputs": [],
   "source": [
    "from sklearn.linear_model import LinearRegression\n",
    "reg = LinearRegression()"
   ]
  },
  {
   "cell_type": "code",
   "execution_count": 29,
   "id": "3e47527b",
   "metadata": {},
   "outputs": [
    {
     "data": {
      "text/plain": [
       "LinearRegression()"
      ]
     },
     "execution_count": 29,
     "metadata": {},
     "output_type": "execute_result"
    }
   ],
   "source": [
    "reg.fit(X_train, y_train) # 훈련 세트로 학습"
   ]
  },
  {
   "cell_type": "markdown",
   "id": "4aec330d",
   "metadata": {},
   "source": [
    "### 데이터 시각화 (훈련 세트)"
   ]
  },
  {
   "cell_type": "code",
   "execution_count": 30,
   "id": "ba641b03",
   "metadata": {},
   "outputs": [
    {
     "data": {
      "image/png": "[encoded data removed]",
      "text/plain": [
       "<Figure size 640x480 with 1 Axes>"
      ]
     },
     "metadata": {},
     "output_type": "display_data"
    }
   ],
   "source": [
    "plt.scatter(X_train, y_train, color='blue') # 산점도\n",
    "plt.plot(X_train, reg.predict(X_train), color='green') # 선 그래프\n",
    "plt.title('Score by hours (train data)') # 제목\n",
    "plt.xlabel('hours') # X 축 이름\n",
    "plt.ylabel('score') # Y 축 이름\n",
    "plt.show()"
   ]
  },
  {
   "cell_type": "markdown",
   "id": "129cd837",
   "metadata": {},
   "source": [
    "### 데이터 시각화 (테스트 세트)"
   ]
  },
  {
   "cell_type": "code",
   "execution_count": 31,
   "id": "3184268a",
   "metadata": {},
   "outputs": [
    {
     "data": {
      "image/png": "[encoded data removed]",
      "text/plain": [
       "<Figure size 640x480 with 1 Axes>"
      ]
     },
     "metadata": {},
     "output_type": "display_data"
    }
   ],
   "source": [
    "plt.scatter(X_test, y_test, color='blue') # 산점도\n",
    "plt.plot(X_train, reg.predict(X_train), color='green') # 선 그래프\n",
    "plt.title('Score by hours (test data)') # 제목\n",
    "plt.xlabel('hours') # X 축 이름\n",
    "plt.ylabel('score') # Y 축 이름\n",
    "plt.show()"
   ]
  },
  {
   "cell_type": "code",
   "execution_count": 32,
   "id": "01cba3cb",
   "metadata": {},
   "outputs": [
    {
     "data": {
      "text/plain": [
       "array([10.49161294])"
      ]
     },
     "execution_count": 32,
     "metadata": {},
     "output_type": "execute_result"
    }
   ],
   "source": [
    "reg.coef_"
   ]
  },
  {
   "cell_type": "code",
   "execution_count": 33,
   "id": "a7e97ee1",
   "metadata": {},
   "outputs": [
    {
     "data": {
      "text/plain": [
       "0.6115562905169796"
      ]
     },
     "execution_count": 33,
     "metadata": {},
     "output_type": "execute_result"
    }
   ],
   "source": [
    "reg.intercept_"
   ]
  },
  {
   "cell_type": "markdown",
   "id": "670bd18d",
   "metadata": {},
   "source": [
    "### 모델 평가"
   ]
  },
  {
   "cell_type": "code",
   "execution_count": 34,
   "id": "55548d70",
   "metadata": {},
   "outputs": [
    {
     "data": {
      "text/plain": [
       "0.9727616474310156"
      ]
     },
     "execution_count": 34,
     "metadata": {},
     "output_type": "execute_result"
    }
   ],
   "source": [
    "reg.score(X_test, y_test) # 테스트 세트를 통한 모델 평가"
   ]
  },
  {
   "cell_type": "code",
   "execution_count": 35,
   "id": "5c258af0",
   "metadata": {
    "scrolled": true
   },
   "outputs": [
    {
     "data": {
      "text/plain": [
       "0.9356663661221668"
      ]
     },
     "execution_count": 35,
     "metadata": {},
     "output_type": "execute_result"
    }
   ],
   "source": [
    "reg.score(X_train, y_train) # 훈련 세트를 통한 모델 평가"
   ]
  },
  {
   "cell_type": "markdown",
   "id": "276c3d09",
   "metadata": {},
   "source": [
    "## 경사 하강법 (Gradient Descent)"
   ]
  },
  {
   "cell_type": "markdown",
   "id": "5f0bb731",
   "metadata": {},
   "source": [
    "max_iter : 훈련 세트 반복 횟수 (Epoch 횟수)\n",
    "\n",
    "eta0 : 학습률 (learning rate)\n",
    "\n",
    "random_state : 시드값 설정\n",
    "\n",
    "verbose : verbose가 있으면 함수 수행시 발생하는 상세한 정보들을 표준 출력으로 자세히 내보낼 것인가를 나타냄. 보통 0 은 출력하지 않고, 1은 자세히, 2는 함축적인 정보만 출력하는 형태로 되어 있다."
   ]
  },
  {
   "cell_type": "code",
   "execution_count": 36,
   "id": "17213553",
   "metadata": {},
   "outputs": [
    {
     "data": {
      "text/plain": [
       "SGDRegressor()"
      ]
     },
     "execution_count": 36,
     "metadata": {},
     "output_type": "execute_result"
    }
   ],
   "source": [
    "from sklearn.linear_model import SGDRegressor \n",
    "# SGD : Stochastic Gradient Descent 확률적 경사 하강법\n",
    "\n",
    "# 지수표기법\n",
    "# 1e-3 : 0.001 (10^-3)\n",
    "# 1e-4 : 0.0001 (10^-4)\n",
    "# 1e+3 : 1000 (10^3)\n",
    "# 1e+4 : 10000 (10^4)\n",
    "\n",
    "# sr = SGDRegressor(max_iter=200, eta0=1e-4, random_state=0, verbose=1)\n",
    "sr = SGDRegressor()\n",
    "sr.fit(X_train, y_train)"
   ]
  },
  {
   "cell_type": "code",
   "execution_count": 41,
   "id": "19a879f4",
   "metadata": {},
   "outputs": [
    {
     "data": {
      "image/png": "[encoded data removed]",
      "text/plain": [
       "<Figure size 640x480 with 1 Axes>"
      ]
     },
     "metadata": {},
     "output_type": "display_data"
    }
   ],
   "source": [
    "#시각화\n",
    "# 산점도\n",
    "plt.scatter(X_train, y_train, color='blue') \n",
    " # 선 그래프\n",
    "plt.plot(X_train, sr.predict(X_train), color='red')\n",
    "plt.title('Score by hours') # 제목\n",
    "plt.xlabel('hours') # X 축 이름\n",
    "plt.ylabel('score') # Y 축 이름\n",
    "plt.show()"
   ]
  },
  {
   "cell_type": "code",
   "execution_count": 38,
   "id": "9143f755",
   "metadata": {},
   "outputs": [
    {
     "data": {
      "text/plain": [
       "(array([10.1939701]), array([1.8952205]))"
      ]
     },
     "execution_count": 38,
     "metadata": {},
     "output_type": "execute_result"
    }
   ],
   "source": [
    "sr.coef_, sr.intercept_\n",
    "# 주의 : SGDRegressor() 객체를 생성할 때 random_state 값을 지정하지 않았으므로 결과가 다르게 나타날 수 있음"
   ]
  },
  {
   "cell_type": "code",
   "execution_count": 39,
   "id": "8e01241d",
   "metadata": {},
   "outputs": [
    {
     "data": {
      "text/plain": [
       "0.9739857541114133"
      ]
     },
     "execution_count": 39,
     "metadata": {},
     "output_type": "execute_result"
    }
   ],
   "source": [
    "sr.score(X_test, y_test) # 테스트 세트를 통한 정확도(모델 평가 )"
   ]
  },
  {
   "cell_type": "code",
   "execution_count": 40,
   "id": "ee1306ec",
   "metadata": {},
   "outputs": [
    {
     "data": {
      "text/plain": [
       "0.9348836130085049"
      ]
     },
     "execution_count": 40,
     "metadata": {},
     "output_type": "execute_result"
    }
   ],
   "source": [
    "sr.score(X_train, y_train) # 훈련 세트를 통한 모델 평가 "
   ]
  }
 ],
 "metadata": {
  "kernelspec": {
   "display_name": "Python 3 (ipykernel)",
   "language": "python",
   "name": "python3"
  },
  "language_info": {
   "codemirror_mode": {
    "name": "ipython",
    "version": 3
   },
   "file_extension": ".py",
   "mimetype": "text/x-python",
   "name": "python",
   "nbconvert_exporter": "python",
   "pygments_lexer": "ipython3",
   "version": "3.9.13"
  }
 },
 "nbformat": 4,
 "nbformat_minor": 5
}
